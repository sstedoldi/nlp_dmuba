{
 "cells": [
  {
   "cell_type": "markdown",
   "id": "5a058b33",
   "metadata": {},
   "source": [
    "# Prompt engineering\n",
    "\n",
    "OpenAI promp engineering for using API requests to extract features from the news collected.\n",
    "\n",
    "Using openai=2.1.0\n",
    "\n",
    "Using structured output with BaseModel\n"
   ]
  },
  {
   "cell_type": "code",
   "execution_count": null,
   "id": "bb173c1d",
   "metadata": {},
   "outputs": [],
   "source": [
    "from __future__ import annotations\n",
    "from typing import List, Optional, Literal\n",
    "from pydantic import BaseModel, Field\n",
    "import pandas as pd\n",
    "pd.options.display.max_columns = None\n",
    "from pandas import json_normalize\n",
    "\n",
    "from openai import OpenAI\n",
    "\n",
    "project_path = \"C:/Users/santt/Desktop/DataMining_UBA/5-text_mining/nlp_dmuba/\""
   ]
  },
  {
   "cell_type": "markdown",
   "id": "dbd37de1",
   "metadata": {},
   "source": [
    "### Loading dataset"
   ]
  },
  {
   "cell_type": "code",
   "execution_count": null,
   "id": "4c67d063",
   "metadata": {},
   "outputs": [],
   "source": [
    "dataset_file_path = project_path+\"1-Scraping/dataset_consolidado/df.parquet\" \n",
    "df = pd.read_parquet(dataset_file_path)"
   ]
  },
  {
   "cell_type": "code",
   "execution_count": null,
   "id": "732a7517",
   "metadata": {},
   "outputs": [],
   "source": [
    "df.head()"
   ]
  },
  {
   "cell_type": "code",
   "execution_count": null,
   "id": "7df2b9fe",
   "metadata": {},
   "outputs": [],
   "source": [
    "df.info()"
   ]
  },
  {
   "cell_type": "code",
   "execution_count": null,
   "id": "40ea1718",
   "metadata": {},
   "outputs": [],
   "source": [
    "# taking a sample of 50 news\n",
    "sample = 50\n",
    "\n",
    "df_sample = df.sample(sample, random_state=42).reset_index(drop=True)"
   ]
  },
  {
   "cell_type": "code",
   "execution_count": null,
   "id": "40128017",
   "metadata": {},
   "outputs": [],
   "source": [
    "df_sample"
   ]
  },
  {
   "cell_type": "markdown",
   "id": "7d6bd461",
   "metadata": {},
   "source": [
    "### OpenAI Requests"
   ]
  },
  {
   "cell_type": "markdown",
   "id": "24480785",
   "metadata": {},
   "source": [
    "Initiating OpenAI client"
   ]
  },
  {
   "cell_type": "code",
   "execution_count": null,
   "id": "5dbf8e3c",
   "metadata": {},
   "outputs": [],
   "source": [
    "try:\n",
    "    with open(project_path+'.secrets/openai_api_key.txt', 'r') as file:\n",
    "        key = file.read()\n",
    "except FileNotFoundError:\n",
    "    print(\"Error: The file 'openai_api_key.txt' was not found.\")\n",
    "except Exception as e:\n",
    "    print(f\"An error occurred: {e}\")\n",
    "\n",
    "client = OpenAI(api_key = key)"
   ]
  },
  {
   "cell_type": "markdown",
   "id": "be5a0875",
   "metadata": {},
   "source": [
    "Structure request"
   ]
  },
  {
   "cell_type": "code",
   "execution_count": null,
   "id": "78a6d1e3",
   "metadata": {},
   "outputs": [],
   "source": [
    "# ---------------------------\n",
    "# DEFINICIONES DE CONVENCIÓN\n",
    "# ---------------------------\n",
    "# Escalas:\n",
    "# - Señales y sentimientos: [-1..1]  (dirección y magnitud a la vez; 0 = neutro)\n",
    "# - Confianza y calidad:    [0..1]\n",
    "#\n",
    "# Señales de mercado (signo):\n",
    "# - merval: + sube índice; - baja índice\n",
    "# - fx_usdars: + se deprecia ARS (sube USD/ARS); - se aprecia ARS (baja USD/ARS)\n",
    "# - tasa_bcra: + sube tasa de política; - baja tasa\n",
    "# - bonos_soberanos: + sube precio (mejora riesgo / bajan rendimientos); - baja precio\n",
    "# - actividad_economica: + mayor actividad; - menor actividad\n",
    "#\n",
    "# Reglas de simplicidad (para gpt-5-nano):\n",
    "# - Si el artículo no da evidencia clara → devolver 0.0 (neutro) y/o \"unknown\".\n",
    "# - horizonte_dias solo si aparece explícito (fechas, “en X días/meses”, “desde hoy”).\n",
    "# - Listas sin duplicados; tickers en MAYÚSCULAS; strings en minúsculas salvo nombres propios.\n",
    "# - Redondeo de floats a 2 decimales recomendado en el post-procesamiento.\n",
    "\n",
    "class SenalesMercado(BaseModel):\n",
    "    merval: float = Field(description=\"[-1..1] Sesgo esperado para el índice Merval (↑:+, ↓:-).\")\n",
    "    fx_usdars: float = Field(description=\"[-1..1] Sesgo para el tipo de cambio USD/ARS (↑:+ deprecia ARS, ↓:- aprecia ARS).\")\n",
    "    tasa_bcra: float = Field(description=\"[-1..1] Sesgo para la tasa de política del BCRA (↑:+, ↓:-).\")\n",
    "    bonos_soberanos: float = Field(description=\"[-1..1] Sesgo para el precio de bonos soberanos (↑:+ precio, ↓:- precio).\")\n",
    "    actividad_economica: float = Field(description=\"[-1..1] Sesgo sobre nivel de actividad (↑:+, ↓:-).\")\n",
    "\n",
    "class Sentimientos(BaseModel):\n",
    "    valencia_general: float = Field(description=\"[-1..1] Tono global del artículo sobre economía/mercados.\")\n",
    "    gobernanza: float = Field(description=\"[-1..1] Tono respecto a gobierno/gobernanza (institucional/político).\")\n",
    "    expectativa_macro_corto: float = Field(description=\"[-1..1] Expectativa macro a 1–3 meses.\")\n",
    "    expectativa_macro_largo: float = Field(description=\"[-1..1] Expectativa macro a >6 meses.\")\n",
    "    expectativa_fin_corto: float = Field(description=\"[-1..1] Condiciones financieras a 1–3 meses (tasas, crédito, riesgo).\")\n",
    "    expectativa_fin_largo: float = Field(description=\"[-1..1] Condiciones financieras a >6 meses.\")\n",
    "\n",
    "class Tematicas(BaseModel):\n",
    "    menciona_inflacion: bool = Field(description=\"Se menciona inflación/precios.\")\n",
    "    menciona_pbi: bool = Field(description=\"Se menciona PBI/crecimiento.\")\n",
    "    menciona_reservas: bool = Field(description=\"Se mencionan reservas del BCRA.\")\n",
    "    menciona_embi: bool = Field(description=\"Se menciona riesgo país/EMBI.\")\n",
    "    menciona_deuda: bool = Field(description=\"Se menciona deuda pública/privada.\")\n",
    "    menciona_fmi: bool = Field(description=\"Se menciona FMI/acuerdos.\")\n",
    "    menciona_salarios_paritarias: bool = Field(description=\"Se mencionan salarios/paritarias.\")\n",
    "    menciona_tipo_cambio: bool = Field(description=\"Se menciona tipo de cambio/dólar.\")\n",
    "    menciona_confianza_consumidor: bool = Field(description=\"Se menciona índice/sentimiento de confianza del consumidor.\")\n",
    "\n",
    "class Entidades(BaseModel):\n",
    "    tipo_actor_principal: Literal[\n",
    "        \"gobierno_nacional\",\"bcra\",\"provincia\",\"municipio\",\n",
    "        \"empresa_local\",\"empresa_extranjera\",\n",
    "        \"sindicato\",\"poder_judicial\",\"congreso\",\"organismo_internacional\",\n",
    "        \"desconocido\"\n",
    "    ] = Field(description=\"Actor dominante al que refiere la noticia.\")\n",
    "    nombre_actor_principal: Optional[str] = Field(default=\"unknown\", description=\"Nombre del actor (si es claro).\")\n",
    "    empresas_mencionadas: List[str] = Field(default_factory=list, description=\"Empresas citadas (nombre legal).\")\n",
    "    tickers_mencionados: List[str] = Field(default_factory=list, description=\"Tickers (BYMA/ADRs) en MAYÚSCULAS, sin duplicados.\")\n",
    "    sectores_mencionados: List[str] = Field(default_factory=list, description=\"Sectores/industrias relevantes (ej.: bancos, energía).\")\n",
    "\n",
    "class Evento(BaseModel):\n",
    "    tipo_evento: Literal[\n",
    "        \"monetario\",\"fiscal\",\"regulatorio\",\"corporativo\",\"externo\",\n",
    "        \"sindical_social\",\"judicial\",\"electoral\",\"otro\",\"desconocido\"\n",
    "    ] = Field(description=\"Categoría simple del hecho principal.\")\n",
    "    shock: Literal[\"positivo\",\"negativo\",\"mixto\",\"neutro\",\"desconocido\"] = Field(description=\"Signo cualitativo del shock.\")\n",
    "    caracter: Literal[\"retroactivo\",\"vigente\",\"prospectivo\",\"desconocido\"] = Field(description=\"Temporalidad legal/efectiva.\")\n",
    "    horizonte_dias: Optional[int] = Field(default=None, description=\"Días hasta impacto si aparece explícito; si no, null.\")\n",
    "\n",
    "class CalidadFuente(BaseModel):\n",
    "    categoria: Literal[\"oficial\",\"periodistica\",\"rumor\",\"analisis\",\"desconocido\"] = Field(\n",
    "        description=\"Tipo de fuente del contenido.\"\n",
    "    )\n",
    "    score: float = Field(description=\"[0..1] Confiabilidad de la fuente según categoría (regla guía en prompt).\")\n",
    "\n",
    "class NewFeatures(BaseModel):\n",
    "    # Núcleo\n",
    "    entidades: Entidades\n",
    "    evento: Evento\n",
    "    mercado: SenalesMercado\n",
    "    sentimientos: Sentimientos\n",
    "    tematicas: Tematicas\n",
    "\n",
    "    # Calidad / confianza\n",
    "    calidad_fuente: CalidadFuente\n",
    "    confianza: float = Field(description=\"[0..1] Confianza global de extracción (claridad y evidencia).\")\n",
    "\n",
    "### SYSTEM_PROMPT\n",
    "\n",
    "SYSTEM_PROMPT = '''\n",
    "Eres un analista económico-financiero especializado en Argentina.\n",
    "Objetivo: extraer datos ESTRUCTURADOS de una noticia para modelar el MERVAL.\n",
    "Reglas de oro (optimizado para modelos pequeños):\n",
    "- Usa SOLO el texto de la noticia. NO infieras más allá.\n",
    "- Si la evidencia no es clara: usa 0.0 (neutro), \"unknown\" o null (horizonte).\n",
    "- Señales y sentimientos son valores en [-1..1] (dirección y magnitud a la vez).\n",
    "- Confianza y calidad de fuente en [0..1].\n",
    "- “horizonte_dias” SOLO si hay mención explícita (“en X días/meses”, “desde hoy”, una fecha clara).\n",
    "- Tickers en MAYÚSCULAS; listas sin duplicados.\n",
    "- No cites fuentes externas.\n",
    "\n",
    "Guías rápidas:\n",
    "- Calidad de fuente → score por defecto:\n",
    "  oficial: 0.9, periodistica: 0.7, analisis: 0.6, rumor: 0.3, desconocido: 0.5\n",
    "- Señales de mercado (signo):\n",
    "  merval (+ sube índice), fx_usdars (+ se deprecia ARS), tasa_bcra (+ sube tasa),\n",
    "  bonos_soberanos (+ sube precio), actividad_economica (+ sube actividad).\n",
    "- Si el artículo es de temática no económica/financiera: deja señales en 0.0, evento=“desconocido”, confianza ≤ 0.3.\n",
    "\n",
    "Salida: JSON ESTRICTO que valide contra el esquema. No agregues texto extra.\n",
    "'''\n",
    "### USER_TEMPLATE (sin pasos “pesados”, directo al punto)\n",
    "\n",
    "USER_TEMPLATE = '''\n",
    "Diario: {diario}\n",
    "Fecha: {fecha}  # formato YYYY-MM-DD\n",
    "Seccion: {seccion}\n",
    "Titulo: {titulo}\n",
    "Contenido: {contenido}\n",
    "\n",
    "Devuelve SOLO el JSON con el esquema pedido (sin texto adicional).\n",
    "'''\n"
   ]
  },
  {
   "cell_type": "code",
   "execution_count": null,
   "id": "5faba7cc",
   "metadata": {},
   "outputs": [],
   "source": [
    "model = \"gpt-5-mini\"\n",
    "\n",
    "results = []\n",
    "for _, row in df_sample.iterrows():\n",
    "    print(f\"Processing row {_}/{len(df_sample)}\")\n",
    "    # Manejo de faltantes\n",
    "    contenido = (row.get(\"contenido\") or \"\")[:8000]\n",
    "    prompt = USER_TEMPLATE.format(\n",
    "        diario=row.get(\"diario\", \"unknown\"),\n",
    "        fecha=str(row.get(\"fecha\", \"unknown\")),\n",
    "        seccion=row.get(\"seccion\", \"unknown\"),\n",
    "        titulo=row.get(\"titulo\", \"unknown\"),\n",
    "        contenido=contenido,\n",
    "        url=row.get(\"url\", \"unknown\"),\n",
    "    )\n",
    "\n",
    "    resp = client.responses.parse(\n",
    "        model=model,\n",
    "        input=[\n",
    "            {\"role\": \"system\", \"content\": SYSTEM_PROMPT},\n",
    "            {\"role\": \"user\", \"content\": prompt},\n",
    "        ],\n",
    "        text_format=NewFeatures,\n",
    "    )\n",
    "\n",
    "    parsed = resp.output_parsed\n",
    "    results.append(parsed.model_dump())\n",
    "\n",
    "df_features = json_normalize(results, sep=\"__\")\n",
    "df_sample_features = pd.concat([df_sample.reset_index(drop=True), df_features], axis=1)"
   ]
  },
  {
   "cell_type": "markdown",
   "id": "2999a7f5",
   "metadata": {},
   "source": [
    "Took 21 minutes for 50 news"
   ]
  },
  {
   "cell_type": "code",
   "execution_count": null,
   "id": "c157570b",
   "metadata": {},
   "outputs": [],
   "source": [
    "df_sample_features"
   ]
  },
  {
   "cell_type": "code",
   "execution_count": null,
   "id": "f4e4e404",
   "metadata": {},
   "outputs": [],
   "source": [
    "df_sample_features.info()"
   ]
  },
  {
   "cell_type": "code",
   "execution_count": null,
   "id": "b4892981",
   "metadata": {},
   "outputs": [],
   "source": [
    "df_sample_features.to_csv(project_path+f\"5-LLMs/openai/df_sample{sample}_{model}.csv\", index=False)"
   ]
  },
  {
   "cell_type": "markdown",
   "id": "41a85daa",
   "metadata": {},
   "source": [
    "To decide and improve:\n",
    "\n",
    "- Avoiding quotes and other kind of feature requirend using more output tokens\n",
    "- Avoiding reducing too complex features\n",
    "- Aggregating news by day / by newspaper\n"
   ]
  }
 ],
 "metadata": {
  "kernelspec": {
   "display_name": ".venv (3.12.6)",
   "language": "python",
   "name": "python3"
  },
  "language_info": {
   "codemirror_mode": {
    "name": "ipython",
    "version": 3
   },
   "file_extension": ".py",
   "mimetype": "text/x-python",
   "name": "python",
   "nbconvert_exporter": "python",
   "pygments_lexer": "ipython3",
   "version": "3.12.6"
  }
 },
 "nbformat": 4,
 "nbformat_minor": 5
}
