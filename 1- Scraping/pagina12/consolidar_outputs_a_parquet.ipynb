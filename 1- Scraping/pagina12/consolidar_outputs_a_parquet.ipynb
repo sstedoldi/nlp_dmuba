{
 "cells": [
  {
   "cell_type": "code",
   "execution_count": 1,
   "id": "e46094c5",
   "metadata": {},
   "outputs": [],
   "source": [
    "#1. Importo librerías\n",
    "import pandas as pd\n",
    "import glob\n",
    "import os"
   ]
  },
  {
   "cell_type": "code",
   "execution_count": 2,
   "id": "6fc1d01b",
   "metadata": {},
   "outputs": [],
   "source": [
    "#2. Carpeta donde están los CSV.\n",
    "carpeta_objetivo = \"./outputs/\""
   ]
  },
  {
   "cell_type": "code",
   "execution_count": 3,
   "id": "3ad82afe",
   "metadata": {},
   "outputs": [],
   "source": [
    "#3. Lista de todos los CSV en la carpeta.\n",
    "archivos_csv = glob.glob(os.path.join(carpeta_objetivo, \"*.csv\"))"
   ]
  },
  {
   "cell_type": "code",
   "execution_count": 4,
   "id": "6a04c5e2",
   "metadata": {},
   "outputs": [],
   "source": [
    "#4. Leo y concateno todos los CSV.\n",
    "df = pd.concat((pd.read_csv(f) for f in archivos_csv), ignore_index=True)"
   ]
  },
  {
   "cell_type": "code",
   "execution_count": 5,
   "id": "32bba838",
   "metadata": {},
   "outputs": [],
   "source": [
    "#5. Ordeno las noticias por fecha, de menor a mayor.\n",
    "df = df.sort_values(by=\"fecha\",ascending=True)"
   ]
  },
  {
   "cell_type": "code",
   "execution_count": 7,
   "id": "923dbe94",
   "metadata": {},
   "outputs": [],
   "source": [
    "#6. Elimino noticias del 30/12/2024,31/12/2024 y del 01/05/2025.\n",
    "fechas_a_eliminar = ['2024-12-30','2024-12-31', '2025-05-01']\n",
    "df = df[~df['fecha'].isin(fechas_a_eliminar)]"
   ]
  },
  {
   "cell_type": "code",
   "execution_count": 8,
   "id": "bea0ef4e",
   "metadata": {},
   "outputs": [
    {
     "name": "stderr",
     "output_type": "stream",
     "text": [
      "C:\\Users\\i_link\\AppData\\Local\\Temp\\ipykernel_7304\\690802291.py:2: SettingWithCopyWarning: \n",
      "A value is trying to be set on a copy of a slice from a DataFrame.\n",
      "Try using .loc[row_indexer,col_indexer] = value instead\n",
      "\n",
      "See the caveats in the documentation: https://pandas.pydata.org/pandas-docs/stable/user_guide/indexing.html#returning-a-view-versus-a-copy\n",
      "  df['fecha'] = pd.to_datetime(df['fecha'])\n"
     ]
    }
   ],
   "source": [
    "#7. Convierto los tipos de datos.\n",
    "df['fecha'] = pd.to_datetime(df['fecha'])"
   ]
  },
  {
   "cell_type": "code",
   "execution_count": 10,
   "id": "148c8007",
   "metadata": {},
   "outputs": [],
   "source": [
    "#8. Reinicio el índice.\n",
    "df = df.reset_index(drop=True)"
   ]
  },
  {
   "cell_type": "code",
   "execution_count": 11,
   "id": "e0d483a9",
   "metadata": {},
   "outputs": [],
   "source": [
    "#9. Exporto a parquet.\n",
    "df.to_parquet(\"./outputs/noticias_pagina12.parquet\")"
   ]
  }
 ],
 "metadata": {
  "kernelspec": {
   "display_name": "pruebas_api",
   "language": "python",
   "name": "python3"
  },
  "language_info": {
   "codemirror_mode": {
    "name": "ipython",
    "version": 3
   },
   "file_extension": ".py",
   "mimetype": "text/x-python",
   "name": "python",
   "nbconvert_exporter": "python",
   "pygments_lexer": "ipython3",
   "version": "3.10.16"
  }
 },
 "nbformat": 4,
 "nbformat_minor": 5
}
