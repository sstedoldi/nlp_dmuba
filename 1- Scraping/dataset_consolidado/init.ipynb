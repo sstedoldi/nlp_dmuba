{
 "cells": [
  {
   "cell_type": "code",
   "execution_count": null,
   "id": "93e3f3b5",
   "metadata": {},
   "outputs": [],
   "source": [
    "#1. Importo librerías.\n",
    "import requests\n",
    "from bs4 import BeautifulSoup\n",
    "import pandas as pd\n",
    "from datetime import datetime\n",
    "import os\n",
    "import time\n",
    "import random\n",
    "from dateutil import parser\n",
    "import matplotlib.pyplot as plt"
   ]
  },
  {
   "cell_type": "code",
   "execution_count": 95,
   "id": "56fdb68c",
   "metadata": {},
   "outputs": [],
   "source": [
    "#2. Leo datasets.\n",
    "clarin = pd.read_parquet(\"../clarin/outputs/noticias_clarin.parquet\")\n",
    "pagina12 = pd.read_parquet(\"../pagina12/outputs/noticias_pagina12.parquet\")\n",
    "ambito = pd.read_parquet(\"../ambito/noticias_ambito.parquet\")\n",
    "lanacion = pd.read_parquet(\"../lanacion/noticias_LN_2025Q1.parquet\")"
   ]
  },
  {
   "cell_type": "code",
   "execution_count": 96,
   "id": "f15d22fd",
   "metadata": {},
   "outputs": [],
   "source": [
    "#3. Homogeinizo nombres y columnas entre los datasets.\n",
    "#a. Ámbito.\n",
    "ambito[\"diario\"] = \"Ámbito Financiero\"\n",
    "ambito.rename({\"articulo\":\"contenido\"},axis=1,inplace=True)\n",
    "ambito['fecha'] = pd.to_datetime(ambito['fecha'])\n",
    "del ambito[\"resumen\"]\n",
    "#b. Clarín\n",
    "clarin.rename({\"titulo noticia\":\"titulo\",\"link\":\"url\"},axis=1,inplace=True)\n",
    "clarin[\"seccion\"] = \"economia\"\n",
    "#c. Página 12.\n",
    "pagina12.rename({\"titulo noticia\":\"titulo\",\"link\":\"url\"},axis=1,inplace=True)\n",
    "pagina12[\"seccion\"] = \"economia\"\n",
    "#d. La Nación.\n",
    "lanacion[\"diario\"] = \"La Nación\"\n",
    "lanacion.rename({\"fecha_publicacion\":\"fecha\",\"texto\":\"contenido\"},axis=1,inplace=True)\n",
    "lanacion.drop(columns=[\"id\", \"status\",\"bajada\"],inplace=True)"
   ]
  },
  {
   "cell_type": "code",
   "execution_count": 97,
   "id": "863f9102",
   "metadata": {},
   "outputs": [],
   "source": [
    "#4. Homogeinizo tipo de datos en las fechas.\n",
    "#a. La Nación.\n",
    "def solo_fecha(f):\n",
    "    try:\n",
    "        return parser.isoparse(f).date()\n",
    "    except Exception:\n",
    "        return pd.NaT\n",
    "lanacion['fecha'] = lanacion['fecha'].apply(solo_fecha)\n",
    "lanacion['fecha'] = pd.to_datetime(lanacion['fecha'], errors='coerce').dt.normalize()\n",
    "#b. Ámbito.\n",
    "ambito['fecha'] = pd.to_datetime(ambito['fecha'], errors='coerce').dt.normalize()"
   ]
  },
  {
   "cell_type": "code",
   "execution_count": 98,
   "id": "e4e534f2",
   "metadata": {},
   "outputs": [],
   "source": [
    "#5. Ordeno todas de menor a mayor, y verifico que no tenga noticias de otras fechas.\n",
    "#a. Defino rango de fechas que vamos a considerar.\n",
    "fecha_inicio = pd.to_datetime(\"2025-01-01\")\n",
    "fecha_fin = pd.to_datetime(\"2025-04-30\")\n",
    "\n",
    "#b. Lista de DataFrames a corregir.\n",
    "diarios = [ambito, clarin, lanacion, pagina12]\n",
    "\n",
    "#c. Función para filtrar el entrefechas de análisis.\n",
    "def preparar_df(df):\n",
    "    #i. Ordeno por fecha ascendente.\n",
    "    df = df.sort_values(by='fecha', ascending=True)\n",
    "    #ii. Filtro por el rango de fechas.\n",
    "    df = df[(df['fecha'] >= fecha_inicio) & (df['fecha'] <= fecha_fin)]\n",
    "    return df\n",
    "\n",
    "#d. Aplico a cada diario la correción sobre las fechas.\n",
    "ambito = preparar_df(ambito)\n",
    "clarin = preparar_df(clarin)\n",
    "lanacion = preparar_df(lanacion)\n",
    "pagina12 = preparar_df(pagina12)"
   ]
  },
  {
   "cell_type": "code",
   "execution_count": 99,
   "id": "b8b6e7e5",
   "metadata": {},
   "outputs": [
    {
     "name": "stdout",
     "output_type": "stream",
     "text": [
      "ambito:\n",
      "  ✅ Todas las columnas esperadas están presentes\n",
      "\n",
      "clarin:\n",
      "  ✅ Todas las columnas esperadas están presentes\n",
      "\n",
      "lanacion:\n",
      "  ✅ Todas las columnas esperadas están presentes\n",
      "\n",
      "pagina12:\n",
      "  ✅ Todas las columnas esperadas están presentes\n",
      "\n"
     ]
    }
   ],
   "source": [
    "#6. Verifico que coincidan las columnas entre todos.\n",
    "#a. Columnas esperadas.\n",
    "orden_columnas = clarin.columns\n",
    "\n",
    "#b. Lista de DataFrames con nombres.\n",
    "diarios = {\n",
    "    'ambito': ambito,\n",
    "    'clarin': clarin,\n",
    "    'lanacion': lanacion,\n",
    "    'pagina12': pagina12\n",
    "}\n",
    "\n",
    "#c. Verifico columnas.\n",
    "for nombre, df in diarios.items():\n",
    "    faltantes = [col for col in orden_columnas if col not in df.columns]\n",
    "    extras = [col for col in df.columns if col not in orden_columnas]\n",
    "    print(f\"{nombre}:\")\n",
    "    if faltantes:\n",
    "        print(f\"  ❌ Faltan columnas: {faltantes}\")\n",
    "    else:\n",
    "        print(\"  ✅ Todas las columnas esperadas están presentes\")\n",
    "    if extras:\n",
    "        print(f\"  ⚠️ Columnas adicionales: {extras}\")\n",
    "    print()\n"
   ]
  },
  {
   "cell_type": "code",
   "execution_count": 100,
   "id": "a6f91759",
   "metadata": {},
   "outputs": [],
   "source": [
    "#7. Homogeinizo el orden de las columnas.\n",
    "#a. Función para reordenar y agregar columnas faltantes.\n",
    "def uniformizar_columnas(df, columnas_objetivo):\n",
    "    #i. Agrego columnas faltantes.\n",
    "    for col in columnas_objetivo:\n",
    "        if col not in df.columns:\n",
    "            df[col] = pd.NA\n",
    "    #ii. Reordeno columnas.\n",
    "    return df[columnas_objetivo]\n",
    "\n",
    "#b. Aplico a cada DataFrame.\n",
    "for nombre in diarios:\n",
    "    diarios[nombre] = uniformizar_columnas(diarios[nombre], orden_columnas)\n",
    "\n",
    "#c. Almaceno\n",
    "ambito = diarios['ambito']\n",
    "clarin = diarios['clarin']\n",
    "lanacion = diarios['lanacion']\n",
    "pagina12 = diarios['pagina12']"
   ]
  },
  {
   "cell_type": "code",
   "execution_count": 110,
   "id": "8ddae12d",
   "metadata": {},
   "outputs": [],
   "source": [
    "#8. Concateno todos los dataframes en uno solo.\n",
    "#a. Lista de DataFrames.\n",
    "dfs = [ambito, clarin, lanacion, pagina12]\n",
    "#b. Concateno en un solo DataFrame.\n",
    "df = pd.concat(dfs, ignore_index=True).reset_index(drop=True)"
   ]
  },
  {
   "cell_type": "code",
   "execution_count": 112,
   "id": "ba4b60d2",
   "metadata": {},
   "outputs": [],
   "source": [
    "#9. Exportación.\n",
    "df.to_parquet(\"./df.parquet\")"
   ]
  },
  {
   "cell_type": "code",
   "execution_count": null,
   "id": "dc518ed1",
   "metadata": {},
   "outputs": [
    {
     "name": "stdout",
     "output_type": "stream",
     "text": [
      "El total de noticias es: 15244\n"
     ]
    }
   ],
   "source": [
    "#10. Estadísticas básicas.\n",
    "#a. Noticias totales.\n",
    "print(\"El total de noticias es: {}\".format(df.shape[0]))"
   ]
  },
  {
   "cell_type": "code",
   "execution_count": null,
   "id": "c15fbe54",
   "metadata": {},
   "outputs": [
    {
     "data": {
      "text/plain": [
       "diario\n",
       "La Nación            6968\n",
       "Ámbito Financiero    4623\n",
       "Clarín               2674\n",
       "Pagina 12             979\n",
       "Name: count, dtype: int64"
      ]
     },
     "execution_count": 125,
     "metadata": {},
     "output_type": "execute_result"
    }
   ],
   "source": [
    "#b. Noticias totales aperturado por diario.\n",
    "df[\"diario\"].value_counts().sort_values(ascending=False)"
   ]
  },
  {
   "cell_type": "code",
   "execution_count": null,
   "id": "dcf5a311",
   "metadata": {},
   "outputs": [
    {
     "data": {
      "image/png": "[encoded data removed]",
      "text/plain": [
       "<Figure size 1200x600 with 1 Axes>"
      ]
     },
     "metadata": {},
     "output_type": "display_data"
    }
   ],
   "source": [
    "#c. Noticias totales aperturado por fecha.\n",
    "#i. Contamos ocurrencias por fecha.\n",
    "conteo_fechas = df['fecha'].value_counts().sort_index()\n",
    "#ii. Graficamos.\n",
    "plt.figure(figsize=(12,6))\n",
    "plt.bar(conteo_fechas.index.astype(str), conteo_fechas.values)\n",
    "plt.xticks(rotation=90)\n",
    "plt.xlabel(\"Fecha\")\n",
    "plt.ylabel(\"Cantidad de noticias\")\n",
    "plt.title(\"Cantidad de noticias por fecha\")\n",
    "plt.tight_layout()\n",
    "plt.show()\n"
   ]
  },
  {
   "cell_type": "code",
   "execution_count": null,
   "id": "15c11804",
   "metadata": {},
   "outputs": [
    {
     "data": {
      "text/plain": [
       "seccion\n",
       "economia             5117\n",
       "Política             2612\n",
       "Economía             2081\n",
       "politica             1568\n",
       "finanzas             1464\n",
       "Campo                 884\n",
       "Futuria               564\n",
       "Dólar Hoy             313\n",
       "opinion               289\n",
       "Negocios              255\n",
       "Agricultura            22\n",
       "Ganadería              18\n",
       "Comercio Exterior      16\n",
       "Tecnologías            10\n",
       "Regionales              9\n",
       "El Mundo                5\n",
       "undefined               4\n",
       "Sociedad                4\n",
       "Autos                   4\n",
       "Tecnología              3\n",
       "Propiedades             1\n",
       "LN+                     1\n",
       "Name: count, dtype: int64"
      ]
     },
     "execution_count": 119,
     "metadata": {},
     "output_type": "execute_result"
    }
   ],
   "source": [
    "#d. Noticias por Sección.\n",
    "df[\"seccion\"].value_counts().sort_values(ascending=False)"
   ]
  }
 ],
 "metadata": {
  "kernelspec": {
   "display_name": "pruebas_api",
   "language": "python",
   "name": "python3"
  },
  "language_info": {
   "codemirror_mode": {
    "name": "ipython",
    "version": 3
   },
   "file_extension": ".py",
   "mimetype": "text/x-python",
   "name": "python",
   "nbconvert_exporter": "python",
   "pygments_lexer": "ipython3",
   "version": "3.10.16"
  }
 },
 "nbformat": 4,
 "nbformat_minor": 5
}
